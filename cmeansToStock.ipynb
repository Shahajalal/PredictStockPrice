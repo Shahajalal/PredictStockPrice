{
 "cells": [
  {
   "cell_type": "code",
   "execution_count": 160,
   "metadata": {},
   "outputs": [],
   "source": [
    "from __future__ import division, print_function\n",
    "from sklearn.model_selection import train_test_split\n",
    "import numpy as np\n",
    "import matplotlib.pyplot as plt\n",
    "import skfuzzy as fuzz\n",
    "import pandas as pd\n",
    "from pandas import DataFrame\n",
    "from sklearn.metrics import r2_score\n",
    "from sklearn.metrics import accuracy_score"
   ]
  },
  {
   "cell_type": "code",
   "execution_count": 161,
   "metadata": {},
   "outputs": [
    {
     "name": "stdout",
     "output_type": "stream",
     "text": [
      "<class 'list'>\n"
     ]
    }
   ],
   "source": [
    "colors = ['b', 'orange', 'g', 'r', 'c', 'm', 'y', 'k', 'Brown', 'ForestGreen']\n",
    "# Directory of the dataset \n",
    "filename = 'googl.us.txt'\n",
    "\n",
    "# Read the file\n",
    "Prgoo = pd.read_csv(filename,sep=',',index_col='Date')\n",
    "\n",
    "# Prices is the predict value and initial the independet variable (y)\n",
    "#prices = Prgoo['Close'].to_numpy()\n",
    "#initial = Prgoo['Open'].to_numpy()\n",
    "\n",
    "prices = Prgoo['Close'].tolist()\n",
    "initial = (Prgoo['Open']).tolist()\n",
    "print(type(prices))\n",
    "#Convert to 1d Vector\n",
    "# prices = np.reshape(prices, (len(prices), 1))\n",
    "# initial = np.reshape(initial, (len(initial), 1))\n",
    "\n",
    "Prgoo.head(5)\n",
    "df = DataFrame(Prgoo,columns=['Close','Open','High','Low','Volume'])"
   ]
  },
  {
   "cell_type": "code",
   "execution_count": 162,
   "metadata": {},
   "outputs": [
    {
     "name": "stdout",
     "output_type": "stream",
     "text": [
      "0.4404753206806185\n"
     ]
    }
   ],
   "source": [
    "cntr, u, u0, d, jm, p, fpc = fuzz.cluster.cmeans(\n",
    "        df, 2000, 2, error=0.005, maxiter=1000, init=None)\n",
    "print(fpc)\n",
    "\n",
    "\n",
    "\n",
    "# Set up the loop and plot\n",
    "# fig1, axes1 = plt.subplots(3, 3, figsize=(8, 8))\n",
    "# fpcs = []\n",
    "# for ncenters, ax in enumerate(axes1.reshape(-1), 2):\n",
    "#     cntr, u, u0, d, jm, p, fpc = fuzz.cluster.cmeans(\n",
    "#         df, ncenters, 2, error=0.005, maxiter=1000, init=None)\n",
    "\n",
    "#     # Store fpc values for later\n",
    "#     fpcs.append(fpc)\n",
    "\n",
    "#     # Plot assigned clusters, for each data point in training set\n",
    "#     cluster_membership = np.argmax(u, axis=0)\n",
    "#     for j in range(ncenters):\n",
    "#         ax.plot(df['Close'], df['Open'], c=colors[j] )\n",
    "\n",
    "#     # Mark the center of each fuzzy cluster\n",
    "#     for pt in cntr:\n",
    "#         ax.plot(pt[0], pt[1], 'rs')\n",
    "\n",
    "#     ax.set_title('Centers = {0}; FPC = {1:.2f}'.format(ncenters, fpc))\n",
    "#     ax.axis('off')\n",
    "\n",
    "# fig1.tight_layout()"
   ]
  },
  {
   "cell_type": "code",
   "execution_count": 163,
   "metadata": {},
   "outputs": [],
   "source": [
    "# plt.scatter(df['Close'], df['Open'], c='g' , s=50, alpha=0.5)\n",
    "# plt.scatter(cntr[:, 0], cntr[:, 1], c='red', s=50)\n",
    "\n",
    "# cluster_membership = np.argmax(u, axis=0) \n",
    "# print(cluster_membership)\n",
    "# fig2, ax2 = plt.subplots()\n",
    "# ax2.set_title('Trained model')\n",
    "# for j in range(3):\n",
    "#     ax2.plot(df['Close'][cluster_membership == j],\n",
    "#                 df['Open'][cluster_membership == j], 'o',\n",
    "#              label='series ' + str(j))\n",
    "# ax2.legend()\n",
    "u, u0, d, jm, p, fpc = fuzz.cluster.cmeans_predict(\n",
    "    df, cntr, 2, error=0.005, maxiter=1000)\n",
    "X=u\n",
    "y=u.argmax(axis=1)"
   ]
  },
  {
   "cell_type": "code",
   "execution_count": 164,
   "metadata": {},
   "outputs": [],
   "source": [
    "from fcmeans import FCM\n",
    "from seaborn import scatterplot as scatter"
   ]
  },
  {
   "cell_type": "code",
   "execution_count": 165,
   "metadata": {},
   "outputs": [
    {
     "name": "stdout",
     "output_type": "stream",
     "text": [
      " 1340 -> 1340\n",
      "----------------------------------------------------------\n",
      " 660 -> 660\n"
     ]
    }
   ],
   "source": [
    "#fcm = FCM(n_clusters=2)\n",
    "#fcm.fit(df)\n",
    "\n",
    "# outputs\n",
    "#fcm_centers = fcm.centers\n",
    "#fcm_labels  = fcm.u.argmax(axis=1)\n",
    "#X=fcm.u.argmax(axis=0)\n",
    "#y=fcm_labels\n",
    "\n",
    "#print(X)\n",
    "\n",
    "xtrain, xtest, ytrain, ytest = train_test_split(X, y, test_size=0.33, random_state=42)\n",
    "print(\" %s -> %s\" % (len(xtrain), len(ytrain)))\n",
    "\n",
    "print('----------------------------------------------------------')\n",
    "print(\" %s -> %s\" % (len(xtest), len(ytest)))"
   ]
  },
  {
   "cell_type": "code",
   "execution_count": 166,
   "metadata": {},
   "outputs": [
    {
     "data": {
      "text/plain": [
       "MLPClassifier(activation='relu', alpha=1e-05, batch_size='auto', beta_1=0.9,\n",
       "              beta_2=0.999, early_stopping=False, epsilon=1e-08,\n",
       "              hidden_layer_sizes=(5, 2), learning_rate='constant',\n",
       "              learning_rate_init=0.001, max_iter=200, momentum=0.9,\n",
       "              n_iter_no_change=10, nesterovs_momentum=True, power_t=0.5,\n",
       "              random_state=1, shuffle=True, solver='lbfgs', tol=0.0001,\n",
       "              validation_fraction=0.1, verbose=False, warm_start=False)"
      ]
     },
     "execution_count": 166,
     "metadata": {},
     "output_type": "execute_result"
    }
   ],
   "source": [
    "from sklearn.neural_network import MLPClassifier\n",
    "regressor = MLPClassifier(solver='lbfgs', alpha=1e-5,\n",
    "                    hidden_layer_sizes=(5, 2), random_state=1)\n",
    "regressor.fit(xtrain, ytrain)"
   ]
  },
  {
   "cell_type": "code",
   "execution_count": 167,
   "metadata": {},
   "outputs": [
    {
     "name": "stdout",
     "output_type": "stream",
     "text": [
      "Accuracy: 0.9984848484848485\n"
     ]
    }
   ],
   "source": [
    "y_pred=regressor.predict(xtest)\n",
    "print(\"Accuracy:\",accuracy_score(ytest, y_pred))"
   ]
  },
  {
   "cell_type": "code",
   "execution_count": 168,
   "metadata": {},
   "outputs": [
    {
     "name": "stdout",
     "output_type": "stream",
     "text": [
      "Average Accuracy: 99.85 +/- (0.0) %\n",
      "Average Precision: 98.75 +/- (0.0) %\n",
      "Average Recall: 99.88 +/- (0.0) %\n",
      "Average F1-Score: 99.30 +/- (0.0) %\n"
     ]
    }
   ],
   "source": [
    "from sklearn.metrics import accuracy_score, f1_score, precision_score, recall_score, classification_report, confusion_matrix\n",
    "Accuracy_Score = accuracy_score(ytest, y_pred)\n",
    "Precision_Score = precision_score(ytest, y_pred,  average=\"macro\")\n",
    "Recall_Score = recall_score(ytest, y_pred,  average=\"macro\")\n",
    "F1_Score = f1_score(ytest, y_pred,  average=\"macro\")\n",
    "\n",
    "print('Average Accuracy: %0.2f +/- (%0.1f) %%' % (Accuracy_Score.mean()*100, Accuracy_Score.std()*100))\n",
    "print('Average Precision: %0.2f +/- (%0.1f) %%' % (Precision_Score.mean()*100, Precision_Score.std()*100))\n",
    "print('Average Recall: %0.2f +/- (%0.1f) %%' % (Recall_Score.mean()*100, Recall_Score.std()*100))\n",
    "print('Average F1-Score: %0.2f +/- (%0.1f) %%' % (F1_Score.mean()*100, F1_Score.std()*100))"
   ]
  },
  {
   "cell_type": "code",
   "execution_count": null,
   "metadata": {},
   "outputs": [],
   "source": []
  }
 ],
 "metadata": {
  "kernelspec": {
   "display_name": "Python 3",
   "language": "python",
   "name": "python3"
  },
  "language_info": {
   "codemirror_mode": {
    "name": "ipython",
    "version": 3
   },
   "file_extension": ".py",
   "mimetype": "text/x-python",
   "name": "python",
   "nbconvert_exporter": "python",
   "pygments_lexer": "ipython3",
   "version": "3.7.3"
  }
 },
 "nbformat": 4,
 "nbformat_minor": 2
}
