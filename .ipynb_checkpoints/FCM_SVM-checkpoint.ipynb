{
 "cells": [
  {
   "cell_type": "code",
   "execution_count": 1,
   "metadata": {},
   "outputs": [],
   "source": [
    "from __future__ import division, print_function\n",
    "from sklearn.model_selection import train_test_split\n",
    "import numpy as np\n",
    "import matplotlib.pyplot as plt\n",
    "import skfuzzy as fuzz\n",
    "import pandas as pd\n",
    "from pandas import DataFrame\n",
    "from sklearn.metrics import r2_score\n",
    "from sklearn.metrics import accuracy_score"
   ]
  },
  {
   "cell_type": "code",
   "execution_count": 2,
   "metadata": {},
   "outputs": [
    {
     "name": "stdout",
     "output_type": "stream",
     "text": [
      "<class 'list'>\n"
     ]
    }
   ],
   "source": [
    "colors = ['b', 'orange', 'g', 'r', 'c', 'm', 'y', 'k', 'Brown', 'ForestGreen']\n",
    "# Directory of the dataset \n",
    "filename = 'googl.us.txt'\n",
    "\n",
    "# Read the file\n",
    "Prgoo = pd.read_csv(filename,sep=',',index_col='Date')\n",
    "\n",
    "# Prices is the predict value and initial the independet variable (y)\n",
    "#prices = Prgoo['Close'].to_numpy()\n",
    "#initial = Prgoo['Open'].to_numpy()\n",
    "\n",
    "prices = Prgoo['Close'].tolist()\n",
    "initial = (Prgoo['Open']).tolist()\n",
    "print(type(prices))\n",
    "#Convert to 1d Vector\n",
    "# prices = np.reshape(prices, (len(prices), 1))\n",
    "# initial = np.reshape(initial, (len(initial), 1))\n",
    "\n",
    "Prgoo.head(5)\n",
    "df = DataFrame(Prgoo,columns=['Close','Open','High','Low','Volume'])"
   ]
  },
  {
   "cell_type": "code",
   "execution_count": 3,
   "metadata": {},
   "outputs": [
    {
     "name": "stdout",
     "output_type": "stream",
     "text": [
      "0.4019704647803849\n"
     ]
    }
   ],
   "source": [
    "cntr, u, u0, d, jm, p, fpc = fuzz.cluster.cmeans(\n",
    "        df, 2000, 2, error=0.005, maxiter=1000, init=None)\n",
    "print(fpc)\n",
    "\n",
    "\n",
    "\n",
    "# Set up the loop and plot\n",
    "# fig1, axes1 = plt.subplots(3, 3, figsize=(8, 8))\n",
    "# fpcs = []\n",
    "# for ncenters, ax in enumerate(axes1.reshape(-1), 2):\n",
    "#     cntr, u, u0, d, jm, p, fpc = fuzz.cluster.cmeans(\n",
    "#         df, ncenters, 2, error=0.005, maxiter=1000, init=None)\n",
    "\n",
    "#     # Store fpc values for later\n",
    "#     fpcs.append(fpc)\n",
    "\n",
    "#     # Plot assigned clusters, for each data point in training set\n",
    "#     cluster_membership = np.argmax(u, axis=0)\n",
    "#     for j in range(ncenters):\n",
    "#         ax.plot(df['Close'], df['Open'], c=colors[j] )\n",
    "\n",
    "#     # Mark the center of each fuzzy cluster\n",
    "#     for pt in cntr:\n",
    "#         ax.plot(pt[0], pt[1], 'rs')\n",
    "\n",
    "#     ax.set_title('Centers = {0}; FPC = {1:.2f}'.format(ncenters, fpc))\n",
    "#     ax.axis('off')\n",
    "\n",
    "# fig1.tight_layout()"
   ]
  },
  {
   "cell_type": "code",
   "execution_count": 4,
   "metadata": {},
   "outputs": [],
   "source": [
    "# plt.scatter(df['Close'], df['Open'], c='g' , s=50, alpha=0.5)\n",
    "# plt.scatter(cntr[:, 0], cntr[:, 1], c='red', s=50)\n",
    "\n",
    "# cluster_membership = np.argmax(u, axis=0) \n",
    "# print(cluster_membership)\n",
    "# fig2, ax2 = plt.subplots()\n",
    "# ax2.set_title('Trained model')\n",
    "# for j in range(3):\n",
    "#     ax2.plot(df['Close'][cluster_membership == j],\n",
    "#                 df['Open'][cluster_membership == j], 'o',\n",
    "#              label='series ' + str(j))\n",
    "# ax2.legend()\n",
    "u, u0, d, jm, p, fpc = fuzz.cluster.cmeans_predict(\n",
    "    df, cntr, 2, error=0.005, maxiter=1000)\n",
    "X=u\n",
    "y=u.argmax(axis=1)"
   ]
  },
  {
   "cell_type": "code",
   "execution_count": 5,
   "metadata": {},
   "outputs": [
    {
     "name": "stdout",
     "output_type": "stream",
     "text": [
      " 1340 -> 1340\n",
      "----------------------------------------------------------\n",
      " 660 -> 660\n"
     ]
    }
   ],
   "source": [
    "xtrain, xtest, ytrain, ytest = train_test_split(X, y, test_size=0.33, random_state=42)\n",
    "print(\" %s -> %s\" % (len(xtrain), len(ytrain)))\n",
    "\n",
    "print('----------------------------------------------------------')\n",
    "print(\" %s -> %s\" % (len(xtest), len(ytest)))"
   ]
  },
  {
   "cell_type": "code",
   "execution_count": 6,
   "metadata": {},
   "outputs": [],
   "source": [
    "from sklearn import svm"
   ]
  },
  {
   "cell_type": "code",
   "execution_count": 7,
   "metadata": {},
   "outputs": [
    {
     "data": {
      "text/plain": [
       "SVC(C=1.0, cache_size=200, class_weight=None, coef0=0.0,\n",
       "    decision_function_shape='ovr', degree=3, gamma='auto_deprecated',\n",
       "    kernel='linear', max_iter=-1, probability=False, random_state=None,\n",
       "    shrinking=True, tol=0.001, verbose=False)"
      ]
     },
     "execution_count": 7,
     "metadata": {},
     "output_type": "execute_result"
    }
   ],
   "source": [
    "regressor = svm.SVC(kernel='linear')\n",
    "\n",
    "regressor.fit(xtrain, ytrain)"
   ]
  },
  {
   "cell_type": "code",
   "execution_count": 8,
   "metadata": {},
   "outputs": [
    {
     "name": "stdout",
     "output_type": "stream",
     "text": [
      "Accuracy: 0.7227272727272728\n"
     ]
    }
   ],
   "source": [
    "y_pred=regressor.predict(xtest)\n",
    "print(\"Accuracy:\",accuracy_score(ytest, y_pred))"
   ]
  },
  {
   "cell_type": "code",
   "execution_count": 9,
   "metadata": {},
   "outputs": [
    {
     "name": "stdout",
     "output_type": "stream",
     "text": [
      "Average Accuracy: 72.27 +/- (0.0) %\n",
      "Average Precision: 18.07 +/- (0.0) %\n",
      "Average Recall: 25.00 +/- (0.0) %\n",
      "Average F1-Score: 20.98 +/- (0.0) %\n"
     ]
    },
    {
     "name": "stderr",
     "output_type": "stream",
     "text": [
      "/Users/mac/anaconda3/lib/python3.7/site-packages/sklearn/metrics/classification.py:1437: UndefinedMetricWarning: Precision is ill-defined and being set to 0.0 in labels with no predicted samples.\n",
      "  'precision', 'predicted', average, warn_for)\n",
      "/Users/mac/anaconda3/lib/python3.7/site-packages/sklearn/metrics/classification.py:1437: UndefinedMetricWarning: F-score is ill-defined and being set to 0.0 in labels with no predicted samples.\n",
      "  'precision', 'predicted', average, warn_for)\n"
     ]
    }
   ],
   "source": [
    "from sklearn.metrics import accuracy_score, f1_score, precision_score, recall_score, classification_report, confusion_matrix\n",
    "Accuracy_Score = accuracy_score(ytest, y_pred)\n",
    "Precision_Score = precision_score(ytest, y_pred,  average=\"macro\")\n",
    "Recall_Score = recall_score(ytest, y_pred,  average=\"macro\")\n",
    "F1_Score = f1_score(ytest, y_pred,  average=\"macro\")\n",
    "\n",
    "print('Average Accuracy: %0.2f +/- (%0.1f) %%' % (Accuracy_Score.mean()*100, Accuracy_Score.std()*100))\n",
    "print('Average Precision: %0.2f +/- (%0.1f) %%' % (Precision_Score.mean()*100, Precision_Score.std()*100))\n",
    "print('Average Recall: %0.2f +/- (%0.1f) %%' % (Recall_Score.mean()*100, Recall_Score.std()*100))\n",
    "print('Average F1-Score: %0.2f +/- (%0.1f) %%' % (F1_Score.mean()*100, F1_Score.std()*100))"
   ]
  },
  {
   "cell_type": "code",
   "execution_count": null,
   "metadata": {},
   "outputs": [],
   "source": []
  }
 ],
 "metadata": {
  "kernelspec": {
   "display_name": "Python 3",
   "language": "python",
   "name": "python3"
  },
  "language_info": {
   "codemirror_mode": {
    "name": "ipython",
    "version": 3
   },
   "file_extension": ".py",
   "mimetype": "text/x-python",
   "name": "python",
   "nbconvert_exporter": "python",
   "pygments_lexer": "ipython3",
   "version": "3.7.3"
  }
 },
 "nbformat": 4,
 "nbformat_minor": 2
}
