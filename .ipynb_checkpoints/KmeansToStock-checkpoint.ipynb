{
 "cells": [
  {
   "cell_type": "code",
   "execution_count": 1,
   "metadata": {},
   "outputs": [],
   "source": [
    "from pandas import DataFrame\n",
    "import matplotlib.pyplot as plt\n",
    "from sklearn.cluster import KMeans\n",
    "import pandas as pd\n",
    "import numpy as np"
   ]
  },
  {
   "cell_type": "code",
   "execution_count": 2,
   "metadata": {},
   "outputs": [],
   "source": [
    "# Directory of the dataset \n",
    "filename = 'googl.us.txt'\n",
    "\n",
    "# Read the file\n",
    "Prgoo = pd.read_csv(filename,sep=',',index_col='Date')\n",
    "\n",
    "# Prices is the predict value and initial the independet variable (y)\n",
    "prices = Prgoo['Close'].tolist()\n",
    "initial = Prgoo['Open'].tolist()\n",
    " \n",
    "#Convert to 1d Vector\n",
    "prices = np.reshape(prices, (len(prices), 1))\n",
    "initial = np.reshape(initial, (len(initial), 1))\n",
    "\n",
    "Prgoo.head(5)\n",
    "df = DataFrame(Prgoo,columns=['Close','Open'])"
   ]
  },
  {
   "cell_type": "code",
   "execution_count": 3,
   "metadata": {},
   "outputs": [
    {
     "name": "stdout",
     "output_type": "stream",
     "text": [
      "[[251.17033146 251.27965555]\n",
      " [702.13495415 702.33607317]]\n"
     ]
    }
   ],
   "source": [
    "kmeans = KMeans(n_clusters=2).fit(df)\n",
    "centroids = kmeans.cluster_centers_\n",
    "y_kmeans = kmeans.predict(df)\n",
    "print(centroids)"
   ]
  },
  {
   "cell_type": "code",
   "execution_count": 4,
   "metadata": {},
   "outputs": [
    {
     "data": {
      "text/plain": [
       "<matplotlib.collections.PathCollection at 0x1a26dde390>"
      ]
     },
     "execution_count": 4,
     "metadata": {},
     "output_type": "execute_result"
    },
    {
     "data": {
      "image/png": "[encoded data removed]",
      "text/plain": [
       "<Figure size 432x288 with 1 Axes>"
      ]
     },
     "metadata": {
      "needs_background": "light"
     },
     "output_type": "display_data"
    }
   ],
   "source": [
    "plt.scatter(df['Close'], df['Open'], c= y_kmeans, s=50, alpha=0.5)\n",
    "plt.scatter(centroids[:, 0], centroids[:, 1], c='red', s=50)"
   ]
  },
  {
   "cell_type": "code",
   "execution_count": null,
   "metadata": {},
   "outputs": [],
   "source": []
  }
 ],
 "metadata": {
  "kernelspec": {
   "display_name": "Python 3",
   "language": "python",
   "name": "python3"
  },
  "language_info": {
   "codemirror_mode": {
    "name": "ipython",
    "version": 3
   },
   "file_extension": ".py",
   "mimetype": "text/x-python",
   "name": "python",
   "nbconvert_exporter": "python",
   "pygments_lexer": "ipython3",
   "version": "3.7.3"
  }
 },
 "nbformat": 4,
 "nbformat_minor": 2
}
